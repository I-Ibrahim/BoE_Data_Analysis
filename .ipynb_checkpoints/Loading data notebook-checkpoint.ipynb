{
 "cells": [
  {
   "cell_type": "code",
   "execution_count": 5,
   "metadata": {
    "collapsed": true
   },
   "outputs": [],
   "source": [
    "import numpy as np\n",
    "import pandas as pd\n",
    "from pandas import Series, DataFrame"
   ]
  },
  {
   "cell_type": "code",
   "execution_count": 6,
   "metadata": {
    "collapsed": false
   },
   "outputs": [
    {
     "data": {
      "text/html": [
       "<div>\n",
       "<table border=\"1\" class=\"dataframe\">\n",
       "  <thead>\n",
       "    <tr style=\"text-align: right;\">\n",
       "      <th></th>\n",
       "      <th>US Base Rate</th>\n",
       "      <th>US GDP Change</th>\n",
       "      <th>US Inflation</th>\n",
       "      <th>US Unemployment</th>\n",
       "      <th>UK Base Rate</th>\n",
       "      <th>UK GDP Change</th>\n",
       "      <th>UK Inflation</th>\n",
       "      <th>UK Unemployment</th>\n",
       "    </tr>\n",
       "    <tr>\n",
       "      <th>Year</th>\n",
       "      <th></th>\n",
       "      <th></th>\n",
       "      <th></th>\n",
       "      <th></th>\n",
       "      <th></th>\n",
       "      <th></th>\n",
       "      <th></th>\n",
       "      <th></th>\n",
       "    </tr>\n",
       "  </thead>\n",
       "  <tbody>\n",
       "    <tr>\n",
       "      <th>2005</th>\n",
       "      <td>3.2</td>\n",
       "      <td>3.3</td>\n",
       "      <td>3.4</td>\n",
       "      <td>5.1</td>\n",
       "      <td>4.5</td>\n",
       "      <td>2.3</td>\n",
       "      <td>2.0</td>\n",
       "      <td>4.8</td>\n",
       "    </tr>\n",
       "    <tr>\n",
       "      <th>2006</th>\n",
       "      <td>5.0</td>\n",
       "      <td>2.7</td>\n",
       "      <td>3.2</td>\n",
       "      <td>4.6</td>\n",
       "      <td>5.0</td>\n",
       "      <td>2.9</td>\n",
       "      <td>2.3</td>\n",
       "      <td>5.4</td>\n",
       "    </tr>\n",
       "    <tr>\n",
       "      <th>2007</th>\n",
       "      <td>5.0</td>\n",
       "      <td>1.8</td>\n",
       "      <td>2.9</td>\n",
       "      <td>4.6</td>\n",
       "      <td>5.5</td>\n",
       "      <td>2.7</td>\n",
       "      <td>2.3</td>\n",
       "      <td>5.3</td>\n",
       "    </tr>\n",
       "    <tr>\n",
       "      <th>2008</th>\n",
       "      <td>1.9</td>\n",
       "      <td>-0.3</td>\n",
       "      <td>3.8</td>\n",
       "      <td>5.8</td>\n",
       "      <td>2.0</td>\n",
       "      <td>-0.1</td>\n",
       "      <td>3.6</td>\n",
       "      <td>5.7</td>\n",
       "    </tr>\n",
       "    <tr>\n",
       "      <th>2009</th>\n",
       "      <td>0.2</td>\n",
       "      <td>-2.8</td>\n",
       "      <td>-0.9</td>\n",
       "      <td>8.9</td>\n",
       "      <td>0.5</td>\n",
       "      <td>-5.0</td>\n",
       "      <td>1.4</td>\n",
       "      <td>7.4</td>\n",
       "    </tr>\n",
       "  </tbody>\n",
       "</table>\n",
       "</div>"
      ],
      "text/plain": [
       "      US Base Rate  US GDP Change  US Inflation  US Unemployment  \\\n",
       "Year                                                               \n",
       "2005           3.2            3.3           3.4              5.1   \n",
       "2006           5.0            2.7           3.2              4.6   \n",
       "2007           5.0            1.8           2.9              4.6   \n",
       "2008           1.9           -0.3           3.8              5.8   \n",
       "2009           0.2           -2.8          -0.9              8.9   \n",
       "\n",
       "      UK Base Rate  UK GDP Change  UK Inflation  UK Unemployment  \n",
       "Year                                                              \n",
       "2005           4.5            2.3           2.0              4.8  \n",
       "2006           5.0            2.9           2.3              5.4  \n",
       "2007           5.5            2.7           2.3              5.3  \n",
       "2008           2.0           -0.1           3.6              5.7  \n",
       "2009           0.5           -5.0           1.4              7.4  "
      ]
     },
     "execution_count": 6,
     "metadata": {},
     "output_type": "execute_result"
    }
   ],
   "source": [
    "#Load US and UK Inflation and Unemployment data\n",
    "Maindata=pd.read_excel('UK US Inflation & Unemployment 1964 - 2009.xls')\n",
    "Maindata=Maindata.rename(columns={'w':'Year','uki':'UK Inflation', 'usi':'US Inflation',\n",
    "                         'usu':'US Unemployment','uku':'UK Unemployment'})\n",
    "Maindata=Maindata.drop({'gi', 'gu'},1)\n",
    "Maindata=Maindata.set_index('Year')\n",
    "Maindata.head()\n",
    "\n",
    "#Load Bank of England Data for GDP and Interest rates\n",
    "BoE=pd.read_excel('BoE Data.xlsx')\n",
    "BoE=BoE.set_index('Year')\n",
    "BoE=BoE.rename(columns={'GDP':'UK GDP Change', 'Bank Rates':'UK Base Rate'})\n",
    "BoE.head()\n",
    "\n",
    "#Load US GDP Data\n",
    "usgdp=pd.read_excel('USA GDP Change.xls')\n",
    "usgdp=usgdp.set_index('Year')\n",
    "usgdp.tail()\n",
    "\n",
    "#Load US Federal Reserve Interest Rates\n",
    "FedRates=pd.read_excel('Federal Reserve Funds 1955-2015.xls')\n",
    "FedRates=FedRates.rename(columns={'FEDFUNDS':'US Base Rate'})\n",
    "FedRates['Year']=DataFrame(np.arange(1955,2016,1).reshape(61,1), index=FedRates.index)\n",
    "FedRates= FedRates.drop('observation_date',1)\n",
    "FedRates=FedRates.set_index('Year')\n",
    "FedRates.head()\n",
    "\n",
    "#Combine the data sets\n",
    "Overall=pd.concat([BoE, FedRates, Maindata, usgdp], axis=1)\n",
    "\n",
    "#Remove rows with any missing values\n",
    "OverallUK=Overall.ix[:,['UK Base Rate', 'UK GDP Change',\n",
    "                     'UK Inflation','UK Unemployment']]\n",
    "OverallUK=OverallUK.dropna(axis=0, how='any')\n",
    "\n",
    "OverallUS=Overall.ix[:,['US Base Rate', 'US GDP Change', \n",
    "                        'US Inflation', 'US Unemployment']]\n",
    "OverallUS=OverallUS.dropna(axis=0, how='any')\n",
    "\n",
    "Overall=pd.concat([OverallUS, OverallUK], axis=1)\n",
    "Overall=Overall.dropna(axis=0, how='any')\n",
    "\n",
    "#Round each value to 1DP for uniformity and present table\n",
    "Overall=Overall.round(1)\n",
    "Overall.tail()\n",
    "\n"
   ]
  },
  {
   "cell_type": "code",
   "execution_count": 7,
   "metadata": {
    "collapsed": false
   },
   "outputs": [
    {
     "data": {
      "text/html": [
       "<div>\n",
       "<table border=\"1\" class=\"dataframe\">\n",
       "  <thead>\n",
       "    <tr style=\"text-align: right;\">\n",
       "      <th></th>\n",
       "      <th>US Base Rate</th>\n",
       "      <th>US GDP Change</th>\n",
       "      <th>US Inflation</th>\n",
       "      <th>US Unemployment</th>\n",
       "      <th>UK Base Rate</th>\n",
       "      <th>UK GDP Change</th>\n",
       "      <th>UK Inflation</th>\n",
       "      <th>UK Unemployment</th>\n",
       "    </tr>\n",
       "  </thead>\n",
       "  <tbody>\n",
       "    <tr>\n",
       "      <th>count</th>\n",
       "      <td>55.000000</td>\n",
       "      <td>55.000000</td>\n",
       "      <td>55.000000</td>\n",
       "      <td>55.000000</td>\n",
       "      <td>55.000000</td>\n",
       "      <td>55.000000</td>\n",
       "      <td>55.000000</td>\n",
       "      <td>55.000000</td>\n",
       "    </tr>\n",
       "    <tr>\n",
       "      <th>mean</th>\n",
       "      <td>5.567273</td>\n",
       "      <td>3.221818</td>\n",
       "      <td>3.861818</td>\n",
       "      <td>5.823636</td>\n",
       "      <td>7.747273</td>\n",
       "      <td>2.285455</td>\n",
       "      <td>5.114545</td>\n",
       "      <td>5.710909</td>\n",
       "    </tr>\n",
       "    <tr>\n",
       "      <th>std</th>\n",
       "      <td>3.281827</td>\n",
       "      <td>2.291748</td>\n",
       "      <td>2.800760</td>\n",
       "      <td>1.447087</td>\n",
       "      <td>3.679264</td>\n",
       "      <td>2.028539</td>\n",
       "      <td>4.374481</td>\n",
       "      <td>3.054303</td>\n",
       "    </tr>\n",
       "    <tr>\n",
       "      <th>min</th>\n",
       "      <td>0.200000</td>\n",
       "      <td>-2.800000</td>\n",
       "      <td>-0.900000</td>\n",
       "      <td>3.500000</td>\n",
       "      <td>0.500000</td>\n",
       "      <td>-5.000000</td>\n",
       "      <td>0.800000</td>\n",
       "      <td>1.600000</td>\n",
       "    </tr>\n",
       "    <tr>\n",
       "      <th>25%</th>\n",
       "      <td>3.200000</td>\n",
       "      <td>2.100000</td>\n",
       "      <td>2.250000</td>\n",
       "      <td>4.800000</td>\n",
       "      <td>5.000000</td>\n",
       "      <td>1.750000</td>\n",
       "      <td>2.150000</td>\n",
       "      <td>2.850000</td>\n",
       "    </tr>\n",
       "    <tr>\n",
       "      <th>50%</th>\n",
       "      <td>5.000000</td>\n",
       "      <td>3.500000</td>\n",
       "      <td>3.200000</td>\n",
       "      <td>5.600000</td>\n",
       "      <td>7.000000</td>\n",
       "      <td>2.400000</td>\n",
       "      <td>3.700000</td>\n",
       "      <td>5.300000</td>\n",
       "    </tr>\n",
       "    <tr>\n",
       "      <th>75%</th>\n",
       "      <td>7.400000</td>\n",
       "      <td>4.600000</td>\n",
       "      <td>4.600000</td>\n",
       "      <td>6.800000</td>\n",
       "      <td>10.350000</td>\n",
       "      <td>3.500000</td>\n",
       "      <td>5.950000</td>\n",
       "      <td>7.850000</td>\n",
       "    </tr>\n",
       "    <tr>\n",
       "      <th>max</th>\n",
       "      <td>16.400000</td>\n",
       "      <td>7.300000</td>\n",
       "      <td>13.000000</td>\n",
       "      <td>9.700000</td>\n",
       "      <td>17.000000</td>\n",
       "      <td>7.600000</td>\n",
       "      <td>21.000000</td>\n",
       "      <td>11.900000</td>\n",
       "    </tr>\n",
       "  </tbody>\n",
       "</table>\n",
       "</div>"
      ],
      "text/plain": [
       "       US Base Rate  US GDP Change  US Inflation  US Unemployment  \\\n",
       "count     55.000000      55.000000     55.000000        55.000000   \n",
       "mean       5.567273       3.221818      3.861818         5.823636   \n",
       "std        3.281827       2.291748      2.800760         1.447087   \n",
       "min        0.200000      -2.800000     -0.900000         3.500000   \n",
       "25%        3.200000       2.100000      2.250000         4.800000   \n",
       "50%        5.000000       3.500000      3.200000         5.600000   \n",
       "75%        7.400000       4.600000      4.600000         6.800000   \n",
       "max       16.400000       7.300000     13.000000         9.700000   \n",
       "\n",
       "       UK Base Rate  UK GDP Change  UK Inflation  UK Unemployment  \n",
       "count     55.000000      55.000000     55.000000        55.000000  \n",
       "mean       7.747273       2.285455      5.114545         5.710909  \n",
       "std        3.679264       2.028539      4.374481         3.054303  \n",
       "min        0.500000      -5.000000      0.800000         1.600000  \n",
       "25%        5.000000       1.750000      2.150000         2.850000  \n",
       "50%        7.000000       2.400000      3.700000         5.300000  \n",
       "75%       10.350000       3.500000      5.950000         7.850000  \n",
       "max       17.000000       7.600000     21.000000        11.900000  "
      ]
     },
     "execution_count": 7,
     "metadata": {},
     "output_type": "execute_result"
    }
   ],
   "source": [
    "Overall.describe()"
   ]
  },
  {
   "cell_type": "code",
   "execution_count": 8,
   "metadata": {
    "collapsed": false
   },
   "outputs": [],
   "source": [
    "import matplotlib.pyplot as plt"
   ]
  },
  {
   "cell_type": "code",
   "execution_count": 11,
   "metadata": {
    "collapsed": false
   },
   "outputs": [],
   "source": [
    "X= Overall.ix[:,'US GDP Change']\n",
    "Y= Overall.ix[:,'US Inflation']"
   ]
  },
  {
   "cell_type": "code",
   "execution_count": 10,
   "metadata": {
    "collapsed": false
   },
   "outputs": [
    {
     "data": {
      "image/png": "[encoded data removed]",
      "text/plain": [
       "<matplotlib.figure.Figure at 0x112b7c9b0>"
      ]
     },
     "metadata": {},
     "output_type": "display_data"
    }
   ],
   "source": [
    "plt.plot(Overall.index, X)\n",
    "\n",
    "plt.show()"
   ]
  },
  {
   "cell_type": "code",
   "execution_count": null,
   "metadata": {
    "collapsed": true
   },
   "outputs": [],
   "source": []
  },
  {
   "cell_type": "code",
   "execution_count": null,
   "metadata": {
    "collapsed": true
   },
   "outputs": [],
   "source": []
  }
 ],
 "metadata": {
  "anaconda-cloud": {},
  "kernelspec": {
   "display_name": "Python [default]",
   "language": "python",
   "name": "python3"
  },
  "language_info": {
   "codemirror_mode": {
    "name": "ipython",
    "version": 3
   },
   "file_extension": ".py",
   "mimetype": "text/x-python",
   "name": "python",
   "nbconvert_exporter": "python",
   "pygments_lexer": "ipython3",
   "version": "3.5.2"
  }
 },
 "nbformat": 4,
 "nbformat_minor": 1
}
