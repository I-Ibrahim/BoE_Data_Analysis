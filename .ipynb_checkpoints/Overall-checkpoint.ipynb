{
 "cells": [
  {
   "cell_type": "code",
   "execution_count": 101,
   "metadata": {
    "collapsed": true
   },
   "outputs": [],
   "source": [
    "import numpy as np\n",
    "import pandas as pd\n",
    "from pandas import Series, DataFrame"
   ]
  },
  {
   "cell_type": "code",
   "execution_count": 167,
   "metadata": {
    "collapsed": false
   },
   "outputs": [
    {
     "data": {
      "text/html": [
       "<div>\n",
       "<table border=\"1\" class=\"dataframe\">\n",
       "  <thead>\n",
       "    <tr style=\"text-align: right;\">\n",
       "      <th></th>\n",
       "      <th>US GDP Change</th>\n",
       "    </tr>\n",
       "    <tr>\n",
       "      <th>Year</th>\n",
       "      <th></th>\n",
       "    </tr>\n",
       "  </thead>\n",
       "  <tbody>\n",
       "    <tr>\n",
       "      <th>2011</th>\n",
       "      <td>1.6</td>\n",
       "    </tr>\n",
       "    <tr>\n",
       "      <th>2012</th>\n",
       "      <td>2.2</td>\n",
       "    </tr>\n",
       "    <tr>\n",
       "      <th>2013</th>\n",
       "      <td>1.7</td>\n",
       "    </tr>\n",
       "    <tr>\n",
       "      <th>2014</th>\n",
       "      <td>2.4</td>\n",
       "    </tr>\n",
       "    <tr>\n",
       "      <th>2015</th>\n",
       "      <td>2.6</td>\n",
       "    </tr>\n",
       "  </tbody>\n",
       "</table>\n",
       "</div>"
      ],
      "text/plain": [
       "      US GDP Change\n",
       "Year               \n",
       "2011            1.6\n",
       "2012            2.2\n",
       "2013            1.7\n",
       "2014            2.4\n",
       "2015            2.6"
      ]
     },
     "execution_count": 167,
     "metadata": {},
     "output_type": "execute_result"
    }
   ],
   "source": [
    "usgdp=pd.read_excel('USA GDP Change.xls')\n",
    "usgdp=usgdp.set_index('Year')\n",
    "usgdp.tail()"
   ]
  },
  {
   "cell_type": "code",
   "execution_count": 177,
   "metadata": {
    "collapsed": false
   },
   "outputs": [
    {
     "data": {
      "text/html": [
       "<div>\n",
       "<table border=\"1\" class=\"dataframe\">\n",
       "  <thead>\n",
       "    <tr style=\"text-align: right;\">\n",
       "      <th></th>\n",
       "      <th>Bank Rates</th>\n",
       "      <th>GDP</th>\n",
       "    </tr>\n",
       "    <tr>\n",
       "      <th>Year</th>\n",
       "      <th></th>\n",
       "      <th></th>\n",
       "    </tr>\n",
       "  </thead>\n",
       "  <tbody>\n",
       "    <tr>\n",
       "      <th>1831</th>\n",
       "      <td>4.0</td>\n",
       "      <td>4.629630</td>\n",
       "    </tr>\n",
       "    <tr>\n",
       "      <th>1832</th>\n",
       "      <td>4.0</td>\n",
       "      <td>-1.548673</td>\n",
       "    </tr>\n",
       "    <tr>\n",
       "      <th>1833</th>\n",
       "      <td>4.0</td>\n",
       "      <td>1.573034</td>\n",
       "    </tr>\n",
       "    <tr>\n",
       "      <th>1834</th>\n",
       "      <td>4.0</td>\n",
       "      <td>4.424779</td>\n",
       "    </tr>\n",
       "    <tr>\n",
       "      <th>1835</th>\n",
       "      <td>4.0</td>\n",
       "      <td>5.296610</td>\n",
       "    </tr>\n",
       "  </tbody>\n",
       "</table>\n",
       "</div>"
      ],
      "text/plain": [
       "      Bank Rates       GDP\n",
       "Year                      \n",
       "1831         4.0  4.629630\n",
       "1832         4.0 -1.548673\n",
       "1833         4.0  1.573034\n",
       "1834         4.0  4.424779\n",
       "1835         4.0  5.296610"
      ]
     },
     "execution_count": 177,
     "metadata": {},
     "output_type": "execute_result"
    }
   ],
   "source": [
    "BoE=pd.read_excel('BoE Data.xlsx')\n",
    "BoE=BoE.set_index('Year')\n",
    "BoE.head()"
   ]
  },
  {
   "cell_type": "code",
   "execution_count": 193,
   "metadata": {
    "collapsed": false
   },
   "outputs": [
    {
     "data": {
      "text/html": [
       "<div>\n",
       "<table border=\"1\" class=\"dataframe\">\n",
       "  <thead>\n",
       "    <tr style=\"text-align: right;\">\n",
       "      <th></th>\n",
       "      <th>UK Inflation</th>\n",
       "      <th>US Inflation</th>\n",
       "      <th>US Unemployment</th>\n",
       "      <th>UK Unemployment</th>\n",
       "    </tr>\n",
       "    <tr>\n",
       "      <th>Year</th>\n",
       "      <th></th>\n",
       "      <th></th>\n",
       "      <th></th>\n",
       "      <th></th>\n",
       "    </tr>\n",
       "  </thead>\n",
       "  <tbody>\n",
       "    <tr>\n",
       "      <th>1871</th>\n",
       "      <td>1.7</td>\n",
       "      <td>-6.4</td>\n",
       "      <td>4.383738</td>\n",
       "      <td>1.518761</td>\n",
       "    </tr>\n",
       "    <tr>\n",
       "      <th>1872</th>\n",
       "      <td>4.5</td>\n",
       "      <td>0.0</td>\n",
       "      <td>3.886836</td>\n",
       "      <td>0.890913</td>\n",
       "    </tr>\n",
       "    <tr>\n",
       "      <th>1873</th>\n",
       "      <td>3.1</td>\n",
       "      <td>-2.0</td>\n",
       "      <td>3.975477</td>\n",
       "      <td>1.020809</td>\n",
       "    </tr>\n",
       "    <tr>\n",
       "      <th>1874</th>\n",
       "      <td>-3.4</td>\n",
       "      <td>-4.9</td>\n",
       "      <td>4.406372</td>\n",
       "      <td>1.554621</td>\n",
       "    </tr>\n",
       "    <tr>\n",
       "      <th>1875</th>\n",
       "      <td>-2.2</td>\n",
       "      <td>-3.6</td>\n",
       "      <td>4.871904</td>\n",
       "      <td>2.081238</td>\n",
       "    </tr>\n",
       "  </tbody>\n",
       "</table>\n",
       "</div>"
      ],
      "text/plain": [
       "      UK Inflation  US Inflation  US Unemployment  UK Unemployment\n",
       "Year                                                              \n",
       "1871           1.7          -6.4         4.383738         1.518761\n",
       "1872           4.5           0.0         3.886836         0.890913\n",
       "1873           3.1          -2.0         3.975477         1.020809\n",
       "1874          -3.4          -4.9         4.406372         1.554621\n",
       "1875          -2.2          -3.6         4.871904         2.081238"
      ]
     },
     "execution_count": 193,
     "metadata": {},
     "output_type": "execute_result"
    }
   ],
   "source": [
    "Maindata=pd.read_excel('UK US Inflation & Unemployment 1964 - 2009.xls')\n",
    "Maindata=Maindata.rename(columns={'w':'Year','uki':'UK Inflation', 'usi':'US Inflation',\n",
    "                         'usu':'US Unemployment','uku':'UK Unemployment'})\n",
    "Maindata=Maindata.drop({'gi', 'gu'},1)\n",
    "Maindata=Maindata.set_index('Year')\n",
    "Maindata.head()"
   ]
  },
  {
   "cell_type": "code",
   "execution_count": 170,
   "metadata": {
    "collapsed": false
   },
   "outputs": [
    {
     "data": {
      "text/html": [
       "<div>\n",
       "<table border=\"1\" class=\"dataframe\">\n",
       "  <thead>\n",
       "    <tr style=\"text-align: right;\">\n",
       "      <th></th>\n",
       "      <th>FEDFUNDS</th>\n",
       "    </tr>\n",
       "    <tr>\n",
       "      <th>Year</th>\n",
       "      <th></th>\n",
       "    </tr>\n",
       "  </thead>\n",
       "  <tbody>\n",
       "    <tr>\n",
       "      <th>1955</th>\n",
       "      <td>1.79</td>\n",
       "    </tr>\n",
       "    <tr>\n",
       "      <th>1956</th>\n",
       "      <td>2.73</td>\n",
       "    </tr>\n",
       "    <tr>\n",
       "      <th>1957</th>\n",
       "      <td>3.11</td>\n",
       "    </tr>\n",
       "    <tr>\n",
       "      <th>1958</th>\n",
       "      <td>1.57</td>\n",
       "    </tr>\n",
       "    <tr>\n",
       "      <th>1959</th>\n",
       "      <td>3.31</td>\n",
       "    </tr>\n",
       "  </tbody>\n",
       "</table>\n",
       "</div>"
      ],
      "text/plain": [
       "      FEDFUNDS\n",
       "Year          \n",
       "1955      1.79\n",
       "1956      2.73\n",
       "1957      3.11\n",
       "1958      1.57\n",
       "1959      3.31"
      ]
     },
     "execution_count": 170,
     "metadata": {},
     "output_type": "execute_result"
    }
   ],
   "source": [
    "FedRates=pd.read_excel('Federal Reserve Funds 1955-2015.xls')\n",
    "FedRates.rename(columns={'observation_date':'Year', 'FEDFUNDS':'Base Rate'}).tail()\n",
    "FedRates['Year']=DataFrame(np.arange(1955,2016,1).reshape(61,1), index=FedRates.index)\n",
    "FedRates= FedRates.drop('observation_date',1)\n",
    "FedRates=FedRates.set_index('Year')\n",
    "FedRates.head()"
   ]
  },
  {
   "cell_type": "code",
   "execution_count": 180,
   "metadata": {
    "collapsed": false
   },
   "outputs": [],
   "source": [
    "Overall=pd.concat([BoE, FedRates, Maindata, usgdp], axis=1)"
   ]
  },
  {
   "cell_type": "code",
   "execution_count": 182,
   "metadata": {
    "collapsed": false
   },
   "outputs": [
    {
     "data": {
      "text/html": [
       "<div>\n",
       "<table border=\"1\" class=\"dataframe\">\n",
       "  <thead>\n",
       "    <tr style=\"text-align: right;\">\n",
       "      <th></th>\n",
       "      <th>Bank Rates</th>\n",
       "      <th>GDP</th>\n",
       "      <th>FEDFUNDS</th>\n",
       "      <th>UK Inflation</th>\n",
       "      <th>US Inflation</th>\n",
       "      <th>US Unemployment</th>\n",
       "      <th>UK Unemployment</th>\n",
       "      <th>US GDP Change</th>\n",
       "    </tr>\n",
       "    <tr>\n",
       "      <th>Year</th>\n",
       "      <th></th>\n",
       "      <th></th>\n",
       "      <th></th>\n",
       "      <th></th>\n",
       "      <th></th>\n",
       "      <th></th>\n",
       "      <th></th>\n",
       "      <th></th>\n",
       "    </tr>\n",
       "  </thead>\n",
       "  <tbody>\n",
       "    <tr>\n",
       "      <th>1831</th>\n",
       "      <td>4.0</td>\n",
       "      <td>4.629630</td>\n",
       "      <td>NaN</td>\n",
       "      <td>NaN</td>\n",
       "      <td>NaN</td>\n",
       "      <td>NaN</td>\n",
       "      <td>NaN</td>\n",
       "      <td>NaN</td>\n",
       "    </tr>\n",
       "    <tr>\n",
       "      <th>1832</th>\n",
       "      <td>4.0</td>\n",
       "      <td>-1.548673</td>\n",
       "      <td>NaN</td>\n",
       "      <td>NaN</td>\n",
       "      <td>NaN</td>\n",
       "      <td>NaN</td>\n",
       "      <td>NaN</td>\n",
       "      <td>NaN</td>\n",
       "    </tr>\n",
       "    <tr>\n",
       "      <th>1833</th>\n",
       "      <td>4.0</td>\n",
       "      <td>1.573034</td>\n",
       "      <td>NaN</td>\n",
       "      <td>NaN</td>\n",
       "      <td>NaN</td>\n",
       "      <td>NaN</td>\n",
       "      <td>NaN</td>\n",
       "      <td>NaN</td>\n",
       "    </tr>\n",
       "    <tr>\n",
       "      <th>1834</th>\n",
       "      <td>4.0</td>\n",
       "      <td>4.424779</td>\n",
       "      <td>NaN</td>\n",
       "      <td>NaN</td>\n",
       "      <td>NaN</td>\n",
       "      <td>NaN</td>\n",
       "      <td>NaN</td>\n",
       "      <td>NaN</td>\n",
       "    </tr>\n",
       "    <tr>\n",
       "      <th>1835</th>\n",
       "      <td>4.0</td>\n",
       "      <td>5.296610</td>\n",
       "      <td>NaN</td>\n",
       "      <td>NaN</td>\n",
       "      <td>NaN</td>\n",
       "      <td>NaN</td>\n",
       "      <td>NaN</td>\n",
       "      <td>NaN</td>\n",
       "    </tr>\n",
       "  </tbody>\n",
       "</table>\n",
       "</div>"
      ],
      "text/plain": [
       "      Bank Rates       GDP  FEDFUNDS  UK Inflation  US Inflation  \\\n",
       "Year                                                               \n",
       "1831         4.0  4.629630       NaN           NaN           NaN   \n",
       "1832         4.0 -1.548673       NaN           NaN           NaN   \n",
       "1833         4.0  1.573034       NaN           NaN           NaN   \n",
       "1834         4.0  4.424779       NaN           NaN           NaN   \n",
       "1835         4.0  5.296610       NaN           NaN           NaN   \n",
       "\n",
       "      US Unemployment  UK Unemployment  US GDP Change  \n",
       "Year                                                   \n",
       "1831              NaN              NaN            NaN  \n",
       "1832              NaN              NaN            NaN  \n",
       "1833              NaN              NaN            NaN  \n",
       "1834              NaN              NaN            NaN  \n",
       "1835              NaN              NaN            NaN  "
      ]
     },
     "execution_count": 182,
     "metadata": {},
     "output_type": "execute_result"
    }
   ],
   "source": [
    "Overall.head()\n",
    "\n",
    "#figure way to remove ones with NA"
   ]
  },
  {
   "cell_type": "markdown",
   "metadata": {},
   "source": [
    "    "
   ]
  },
  {
   "cell_type": "code",
   "execution_count": 173,
   "metadata": {
    "collapsed": false
   },
   "outputs": [
    {
     "data": {
      "text/html": [
       "<div>\n",
       "<table border=\"1\" class=\"dataframe\">\n",
       "  <thead>\n",
       "    <tr style=\"text-align: right;\">\n",
       "      <th></th>\n",
       "      <th>Bank Rates</th>\n",
       "      <th>GDP</th>\n",
       "      <th>FEDFUNDS</th>\n",
       "      <th>UK Inflation</th>\n",
       "      <th>US Inflation</th>\n",
       "      <th>US Unemployment</th>\n",
       "      <th>UK Unemployment</th>\n",
       "      <th>US GDP Change</th>\n",
       "    </tr>\n",
       "    <tr>\n",
       "      <th>Year</th>\n",
       "      <th></th>\n",
       "      <th></th>\n",
       "      <th></th>\n",
       "      <th></th>\n",
       "      <th></th>\n",
       "      <th></th>\n",
       "      <th></th>\n",
       "      <th></th>\n",
       "    </tr>\n",
       "  </thead>\n",
       "  <tbody>\n",
       "    <tr>\n",
       "      <th>2010</th>\n",
       "      <td>NaN</td>\n",
       "      <td>NaN</td>\n",
       "      <td>0.18</td>\n",
       "      <td>NaN</td>\n",
       "      <td>NaN</td>\n",
       "      <td>NaN</td>\n",
       "      <td>NaN</td>\n",
       "      <td>2.5</td>\n",
       "    </tr>\n",
       "    <tr>\n",
       "      <th>2011</th>\n",
       "      <td>NaN</td>\n",
       "      <td>NaN</td>\n",
       "      <td>0.10</td>\n",
       "      <td>NaN</td>\n",
       "      <td>NaN</td>\n",
       "      <td>NaN</td>\n",
       "      <td>NaN</td>\n",
       "      <td>1.6</td>\n",
       "    </tr>\n",
       "    <tr>\n",
       "      <th>2013</th>\n",
       "      <td>NaN</td>\n",
       "      <td>NaN</td>\n",
       "      <td>0.11</td>\n",
       "      <td>NaN</td>\n",
       "      <td>NaN</td>\n",
       "      <td>NaN</td>\n",
       "      <td>NaN</td>\n",
       "      <td>1.7</td>\n",
       "    </tr>\n",
       "    <tr>\n",
       "      <th>2014</th>\n",
       "      <td>NaN</td>\n",
       "      <td>NaN</td>\n",
       "      <td>0.09</td>\n",
       "      <td>NaN</td>\n",
       "      <td>NaN</td>\n",
       "      <td>NaN</td>\n",
       "      <td>NaN</td>\n",
       "      <td>2.4</td>\n",
       "    </tr>\n",
       "    <tr>\n",
       "      <th>2015</th>\n",
       "      <td>NaN</td>\n",
       "      <td>NaN</td>\n",
       "      <td>0.13</td>\n",
       "      <td>NaN</td>\n",
       "      <td>NaN</td>\n",
       "      <td>NaN</td>\n",
       "      <td>NaN</td>\n",
       "      <td>2.6</td>\n",
       "    </tr>\n",
       "  </tbody>\n",
       "</table>\n",
       "</div>"
      ],
      "text/plain": [
       "      Bank Rates  GDP  FEDFUNDS  UK Inflation  US Inflation  US Unemployment  \\\n",
       "Year                                                                           \n",
       "2010         NaN  NaN      0.18           NaN           NaN              NaN   \n",
       "2011         NaN  NaN      0.10           NaN           NaN              NaN   \n",
       "2013         NaN  NaN      0.11           NaN           NaN              NaN   \n",
       "2014         NaN  NaN      0.09           NaN           NaN              NaN   \n",
       "2015         NaN  NaN      0.13           NaN           NaN              NaN   \n",
       "\n",
       "      UK Unemployment  US GDP Change  \n",
       "Year                                  \n",
       "2010              NaN            2.5  \n",
       "2011              NaN            1.6  \n",
       "2013              NaN            1.7  \n",
       "2014              NaN            2.4  \n",
       "2015              NaN            2.6  "
      ]
     },
     "execution_count": 173,
     "metadata": {},
     "output_type": "execute_result"
    }
   ],
   "source": [
    "OverallUK=Overall.drop(2012)\n",
    "OverallUK.tail()"
   ]
  },
  {
   "cell_type": "code",
   "execution_count": 192,
   "metadata": {
    "collapsed": false
   },
   "outputs": [
    {
     "data": {
      "text/html": [
       "<div>\n",
       "<table border=\"1\" class=\"dataframe\">\n",
       "  <thead>\n",
       "    <tr style=\"text-align: right;\">\n",
       "      <th></th>\n",
       "      <th>Bank Rates</th>\n",
       "      <th>GDP</th>\n",
       "      <th>UK Inflation</th>\n",
       "      <th>UK Unemployment</th>\n",
       "    </tr>\n",
       "    <tr>\n",
       "      <th>Year</th>\n",
       "      <th></th>\n",
       "      <th></th>\n",
       "      <th></th>\n",
       "      <th></th>\n",
       "    </tr>\n",
       "  </thead>\n",
       "  <tbody>\n",
       "    <tr>\n",
       "      <th>2005</th>\n",
       "      <td>4.5</td>\n",
       "      <td>2.343422</td>\n",
       "      <td>2.0</td>\n",
       "      <td>4.8</td>\n",
       "    </tr>\n",
       "    <tr>\n",
       "      <th>2006</th>\n",
       "      <td>5.0</td>\n",
       "      <td>2.935894</td>\n",
       "      <td>2.3</td>\n",
       "      <td>5.4</td>\n",
       "    </tr>\n",
       "    <tr>\n",
       "      <th>2007</th>\n",
       "      <td>5.5</td>\n",
       "      <td>2.722666</td>\n",
       "      <td>2.3</td>\n",
       "      <td>5.3</td>\n",
       "    </tr>\n",
       "    <tr>\n",
       "      <th>2008</th>\n",
       "      <td>2.0</td>\n",
       "      <td>-0.141463</td>\n",
       "      <td>3.6</td>\n",
       "      <td>5.7</td>\n",
       "    </tr>\n",
       "    <tr>\n",
       "      <th>2009</th>\n",
       "      <td>0.5</td>\n",
       "      <td>-4.957814</td>\n",
       "      <td>1.4</td>\n",
       "      <td>7.4</td>\n",
       "    </tr>\n",
       "  </tbody>\n",
       "</table>\n",
       "</div>"
      ],
      "text/plain": [
       "      Bank Rates       GDP  UK Inflation  UK Unemployment\n",
       "Year                                                     \n",
       "2005         4.5  2.343422           2.0              4.8\n",
       "2006         5.0  2.935894           2.3              5.4\n",
       "2007         5.5  2.722666           2.3              5.3\n",
       "2008         2.0 -0.141463           3.6              5.7\n",
       "2009         0.5 -4.957814           1.4              7.4"
      ]
     },
     "execution_count": 192,
     "metadata": {},
     "output_type": "execute_result"
    }
   ],
   "source": [
    "OverallUK=Overall.drop(['FEDFUNDS','US Inflation','US Unemployment', 'US GDP Change'], 1)\n",
    "OverallUK=OverallUK.dropna(axis=0, how='any')\n",
    "OverallUK.tail()"
   ]
  },
  {
   "cell_type": "code",
   "execution_count": 195,
   "metadata": {
    "collapsed": false
   },
   "outputs": [
    {
     "data": {
      "text/html": [
       "<div>\n",
       "<table border=\"1\" class=\"dataframe\">\n",
       "  <thead>\n",
       "    <tr style=\"text-align: right;\">\n",
       "      <th></th>\n",
       "      <th>FEDFUNDS</th>\n",
       "      <th>US Inflation</th>\n",
       "      <th>US Unemployment</th>\n",
       "      <th>US GDP Change</th>\n",
       "    </tr>\n",
       "    <tr>\n",
       "      <th>Year</th>\n",
       "      <th></th>\n",
       "      <th></th>\n",
       "      <th></th>\n",
       "      <th></th>\n",
       "    </tr>\n",
       "  </thead>\n",
       "  <tbody>\n",
       "    <tr>\n",
       "      <th>1955</th>\n",
       "      <td>1.79</td>\n",
       "      <td>0.0</td>\n",
       "      <td>4.366667</td>\n",
       "      <td>7.1</td>\n",
       "    </tr>\n",
       "    <tr>\n",
       "      <th>1956</th>\n",
       "      <td>2.73</td>\n",
       "      <td>1.5</td>\n",
       "      <td>4.125000</td>\n",
       "      <td>2.1</td>\n",
       "    </tr>\n",
       "    <tr>\n",
       "      <th>1957</th>\n",
       "      <td>3.11</td>\n",
       "      <td>3.3</td>\n",
       "      <td>4.300000</td>\n",
       "      <td>2.1</td>\n",
       "    </tr>\n",
       "    <tr>\n",
       "      <th>1958</th>\n",
       "      <td>1.57</td>\n",
       "      <td>2.8</td>\n",
       "      <td>6.841667</td>\n",
       "      <td>-0.7</td>\n",
       "    </tr>\n",
       "    <tr>\n",
       "      <th>1959</th>\n",
       "      <td>3.31</td>\n",
       "      <td>0.7</td>\n",
       "      <td>5.450000</td>\n",
       "      <td>6.9</td>\n",
       "    </tr>\n",
       "  </tbody>\n",
       "</table>\n",
       "</div>"
      ],
      "text/plain": [
       "      FEDFUNDS  US Inflation  US Unemployment  US GDP Change\n",
       "Year                                                        \n",
       "1955      1.79           0.0         4.366667            7.1\n",
       "1956      2.73           1.5         4.125000            2.1\n",
       "1957      3.11           3.3         4.300000            2.1\n",
       "1958      1.57           2.8         6.841667           -0.7\n",
       "1959      3.31           0.7         5.450000            6.9"
      ]
     },
     "execution_count": 195,
     "metadata": {},
     "output_type": "execute_result"
    }
   ],
   "source": [
    "OverallUS=Overall.drop(['Bank Rates','GDP','UK Unemployment', 'UK Inflation'], 1)\n",
    "OverallUS=OverallUS.dropna(axis=0, how='any')\n",
    "OverallUS.head()"
   ]
  },
  {
   "cell_type": "code",
   "execution_count": null,
   "metadata": {
    "collapsed": true
   },
   "outputs": [],
   "source": []
  }
 ],
 "metadata": {
  "kernelspec": {
   "display_name": "Python [default]",
   "language": "python",
   "name": "python3"
  },
  "language_info": {
   "codemirror_mode": {
    "name": "ipython",
    "version": 3
   },
   "file_extension": ".py",
   "mimetype": "text/x-python",
   "name": "python",
   "nbconvert_exporter": "python",
   "pygments_lexer": "ipython3",
   "version": "3.5.2"
  }
 },
 "nbformat": 4,
 "nbformat_minor": 1
}
